{
 "cells": [
  {
   "cell_type": "markdown",
   "metadata": {},
   "source": [
    "__1.)    Meeting Rooms II__"
   ]
  },
  {
   "cell_type": "code",
   "execution_count": 3,
   "metadata": {},
   "outputs": [
    {
     "name": "stdout",
     "output_type": "stream",
     "text": [
      "Rooms required are : 2\n"
     ]
    }
   ],
   "source": [
    "class Solution:\n",
    "    def meeting_room(self, intervals):\n",
    "        meeting_num = len(intervals)\n",
    "        start = [0] * meeting_num \n",
    "        end = [0] * meeting_num\n",
    "        \n",
    "        for index in range(meeting_num): # Get start and end time seprately\n",
    "            start[index] = intervals[index][0]\n",
    "            end[index] = intervals[index][1]\n",
    "            \n",
    "        start.sort() # Arrange both of them \n",
    "        end.sort()\n",
    "        \n",
    "        end_index = 0\n",
    "        rooms = 0\n",
    "        \n",
    "        for index in range(meeting_num):\n",
    "            if start[index] < end[end_index]: # to check if meeting is starting before end of previous meeting , then use room\n",
    "                rooms = rooms+1\n",
    "            else:\n",
    "                end_index = end_index +1\n",
    "        return rooms\n",
    "    \n",
    "if __name__ == '__main__':\n",
    "   # for _ in range(int(input())):\n",
    "    #    b = int(input()) #size of array\n",
    "     #   c = input().split()\n",
    "    intervals = [[0, 30],[5, 10],[15, 20]]\n",
    "    s = Solution()\n",
    "    print(\"Rooms required are :\", s.meeting_room(intervals))"
   ]
  },
  {
   "cell_type": "markdown",
   "metadata": {},
   "source": [
    "__2.) Wiggle Sort__"
   ]
  },
  {
   "cell_type": "code",
   "execution_count": 38,
   "metadata": {},
   "outputs": [
    {
     "name": "stdout",
     "output_type": "stream",
     "text": [
      "Sorted Array is : [3, 6, 2, 5, 1, 4]\n"
     ]
    }
   ],
   "source": [
    "class Solution:\n",
    "    def wiggleSort(self, nums):\n",
    "        nums.sort(reverse=True)\n",
    "\n",
    "        mid=len(nums)//2\n",
    "        \n",
    "        nums[::2], nums[1::2] = nums[mid:], nums[:mid]\n",
    "        \n",
    "        return nums\n",
    "\n",
    "nums = [3, 5, 2, 1, 6, 4]\n",
    "s = Solution()\n",
    "print(\"Sorted Array is :\" , s.wiggleSort(nums))\n"
   ]
  },
  {
   "cell_type": "code",
   "execution_count": 39,
   "metadata": {},
   "outputs": [
    {
     "data": {
      "text/plain": [
       "[3, 2, 1]"
      ]
     },
     "execution_count": 39,
     "metadata": {},
     "output_type": "execute_result"
    }
   ],
   "source": [
    "nums[::2]"
   ]
  },
  {
   "cell_type": "code",
   "execution_count": 40,
   "metadata": {},
   "outputs": [
    {
     "data": {
      "text/plain": [
       "[6, 5, 4]"
      ]
     },
     "execution_count": 40,
     "metadata": {},
     "output_type": "execute_result"
    }
   ],
   "source": [
    "nums[1::2]"
   ]
  },
  {
   "cell_type": "code",
   "execution_count": 41,
   "metadata": {},
   "outputs": [
    {
     "data": {
      "text/plain": [
       "[5, 1, 4]"
      ]
     },
     "execution_count": 41,
     "metadata": {},
     "output_type": "execute_result"
    }
   ],
   "source": [
    "mid=len(nums)//2\n",
    "nums[mid:]"
   ]
  },
  {
   "cell_type": "code",
   "execution_count": 42,
   "metadata": {},
   "outputs": [
    {
     "data": {
      "text/plain": [
       "[3, 6, 2]"
      ]
     },
     "execution_count": 42,
     "metadata": {},
     "output_type": "execute_result"
    }
   ],
   "source": [
    "nums[:mid]"
   ]
  },
  {
   "cell_type": "markdown",
   "metadata": {},
   "source": [
    "__3.) Next Closest Time__"
   ]
  },
  {
   "cell_type": "code",
   "execution_count": 44,
   "metadata": {},
   "outputs": [
    {
     "name": "stdout",
     "output_type": "stream",
     "text": [
      "Next time is : 19:39\n"
     ]
    }
   ],
   "source": [
    "class Solution(object):\n",
    "    def closesttime(self,time):\n",
    "        h , m = time.split(\":\")\n",
    "        curr = int(h)*60 +int(m) # curr = 1439 (Convert to minutes)\n",
    "        result = 0\n",
    "        for i in range(curr+1 , curr+1441):  # increase 1 min for every time to check next valid time\n",
    "            t = i%1440\n",
    "            h , m = t // 60 , t%60\n",
    "            result = \"%02d:%02d\" % (h,m)\n",
    "            if set(result) <= set (time): # given time should be greater than output time \n",
    "                break\n",
    "        return result\n",
    "\n",
    "time = \"19:34\"\n",
    "s = Solution()\n",
    "print(\"Next time is :\" , s.closesttime(time))"
   ]
  },
  {
   "cell_type": "markdown",
   "metadata": {},
   "source": [
    "__4.) Moving Average from Data Stream__"
   ]
  },
  {
   "cell_type": "code",
   "execution_count": 50,
   "metadata": {},
   "outputs": [
    {
     "name": "stdout",
     "output_type": "stream",
     "text": [
      "[1.0, 5.5, 4.666666666666667, 6.0]\n"
     ]
    }
   ],
   "source": [
    "class MovAverage:\n",
    "    def __init__(self,size):\n",
    "        self.size = size\n",
    "        self.array = []\n",
    "        self.sum = 0\n",
    "    \n",
    "    def calculate(self, val):\n",
    "        self.sum = self.sum + val\n",
    "        self.array.append(val)\n",
    "        if (len(self.array) > self.size):\n",
    "            self.sum -= self.array.pop(0)\n",
    "        return self.sum/len(self.array)\n",
    "l = [1,10,3,5]\n",
    "obj = MovAverage(3)\n",
    "average = []\n",
    "for i in l:\n",
    "    average.append(obj.calculate(i))\n",
    "print(average)"
   ]
  },
  {
   "cell_type": "markdown",
   "metadata": {},
   "source": [
    "__5.) Zig Zag operator__"
   ]
  },
  {
   "cell_type": "code",
   "execution_count": 62,
   "metadata": {},
   "outputs": [
    {
     "name": "stdout",
     "output_type": "stream",
     "text": [
      "[1, 3, 2, 4, 9, 5, 6, 6]\n"
     ]
    }
   ],
   "source": [
    "import itertools\n",
    "class ZigZag:\n",
    "    def __init__(self , v1 ,v2):\n",
    "        self.value = ( v[i] for i in itertools.count() for v in (v1,v2) if i < len(v))\n",
    "        self.n = len(v1)+len(v2)\n",
    "        \n",
    "    def next(self):\n",
    "        self.n-=1\n",
    "        return next(self.value)\n",
    "    \n",
    "    def NNext(self):\n",
    "        return self.n>0\n",
    "    \n",
    "v1 = [1,2,9,6]\n",
    "v2 = [3,4,5,6] \n",
    "i , v = ZigZag(v1,v2) ,[]\n",
    "while i.NNext():\n",
    "    v.append(i.next())\n",
    "\n",
    "print(v)"
   ]
  },
  {
   "cell_type": "markdown",
   "metadata": {},
   "source": [
    "__6.) Flatten 2D Vector__"
   ]
  },
  {
   "cell_type": "code",
   "execution_count": 57,
   "metadata": {},
   "outputs": [
    {
     "name": "stdout",
     "output_type": "stream",
     "text": [
      "[1, 2, 3]\n"
     ]
    }
   ],
   "source": [
    "class vector:\n",
    "    def __init__(self , v):\n",
    "        self.elements = v\n",
    "        self.x = 0\n",
    "        self.y = 0\n",
    "        \n",
    "    def next(self):\n",
    "        while self.x < len(self.elements) and self.y == len(self.elements[self.x]):\n",
    "            self.x = self.x + 1\n",
    "            self.y = 0\n",
    "        value = self.elements[self.x][self.y]\n",
    "        self.y = self.y + 1\n",
    "        return value\n",
    "    \n",
    "    def hasNext(self):\n",
    "        while self.x <len(self.elements) and self.y == len(self.elements[self.x]):\n",
    "            self.x +=1 \n",
    "            self.y = 0\n",
    "        return self.x < len(self.elements)\n",
    "    \n",
    "v = [\n",
    "  [1,2],\n",
    "  [3],\n",
    "  [4,5,6]\n",
    "]\n",
    "first_p = []\n",
    "obj = vector(v)\n",
    "for i in v:\n",
    "    first_p.append(obj.next())\n",
    "    second_p = obj.hasNext()\n",
    "\n",
    "print(first_p)\n"
   ]
  },
  {
   "cell_type": "code",
   "execution_count": 60,
   "metadata": {},
   "outputs": [
    {
     "data": {
      "text/plain": [
       "[[1, 2], [3], [4, 5, 6]]"
      ]
     },
     "execution_count": 60,
     "metadata": {},
     "output_type": "execute_result"
    }
   ],
   "source": [
    "v"
   ]
  },
  {
   "cell_type": "code",
   "execution_count": 61,
   "metadata": {},
   "outputs": [
    {
     "data": {
      "text/plain": [
       "[1, 2, 3]"
      ]
     },
     "execution_count": 61,
     "metadata": {},
     "output_type": "execute_result"
    }
   ],
   "source": [
    "first_p"
   ]
  },
  {
   "cell_type": "markdown",
   "metadata": {},
   "source": [
    "__7.) Design Hit Counter__"
   ]
  },
  {
   "cell_type": "code",
   "execution_count": 5,
   "metadata": {},
   "outputs": [
    {
     "name": "stdout",
     "output_type": "stream",
     "text": [
      "number of hits are:  7\n"
     ]
    }
   ],
   "source": [
    "class HitCount:\n",
    "    def __init__(self):\n",
    "            self.data=[]\n",
    "        \n",
    "    def hit(self ,  timestamp : 'int') -> 'None':\n",
    "        self.data.append(timestamp)\n",
    "        \n",
    "    def getHits(self , timestamp : 'int') -> 'None':\n",
    "        while self.data and timestamp - self.data[0]>=300:\n",
    "            self.data.pop(0)\n",
    "        return len(self.data)\n",
    "    \n",
    "h = [2,3,4 ,2,7,2, 305]\n",
    "s = HitCount()\n",
    "for i in h:\n",
    "    s.hit(i)\n",
    "    \n",
    "print(\"number of hits are: \", s.getHits(300))"
   ]
  },
  {
   "cell_type": "markdown",
   "metadata": {},
   "source": [
    "`Second Method`"
   ]
  },
  {
   "cell_type": "code",
   "execution_count": 15,
   "metadata": {},
   "outputs": [
    {
     "name": "stdout",
     "output_type": "stream",
     "text": [
      "1\n"
     ]
    }
   ],
   "source": [
    "from collections import deque\n",
    "\n",
    "class HitCounter(object):\n",
    "    windowLen = 300\n",
    "\n",
    "    def __init__(self):\n",
    "        \"\"\"\n",
    "        Initialize your data structure here.\n",
    "        \"\"\"\n",
    "        self.hitQueue = deque() # each item is a pair [timeStamp,hitCount] where hitCount is the number of hits at timeStamp\n",
    "        self.hitCountInWindow = 0\n",
    "\n",
    "    def _removeOldHits(self, timestamp):\n",
    "        while self.hitQueue and self.hitQueue[0][0] <= timestamp - self.windowLen:\n",
    "            self.hitCountInWindow -= self.hitQueue.popleft()[1]\n",
    "\n",
    "    def hit(self, timestamp):\n",
    "        \"\"\"\n",
    "        Record a hit.\n",
    "        @param timestamp - The current timestamp (in seconds granularity).\n",
    "        :type timestamp: int\n",
    "        :rtype: void\n",
    "        \"\"\"\n",
    "        if not ( self.hitQueue and self.hitQueue[-1][0]==timestamp ):\n",
    "            self.hitQueue.append( [timestamp,0] )\n",
    "\n",
    "        self.hitQueue[-1][1] += 1\n",
    "        self.hitCountInWindow += 1\n",
    "\n",
    "        # self._removeOldHits(timestamp) # seems removing line this makes it faster\n",
    "\n",
    "    def getHits(self, timestamp):\n",
    "        \"\"\"\n",
    "        Return the number of hits in the past 5 minutes.\n",
    "        @param timestamp - The current timestamp (in seconds granularity).\n",
    "        :type timestamp: int\n",
    "        :rtype: int\n",
    "        \"\"\"\n",
    "        self._removeOldHits(timestamp)\n",
    "        return self.hitCountInWindow\n",
    "\n",
    "\n",
    "\n",
    "# Your HitCounter object will be instantiated and called as such:\n",
    "obj = HitCounter()\n",
    "obj.hit(300)\n",
    "param_2 = obj.getHits(300)\n",
    "print(param_2)"
   ]
  },
  {
   "cell_type": "code",
   "execution_count": null,
   "metadata": {},
   "outputs": [],
   "source": []
  }
 ],
 "metadata": {
  "kernelspec": {
   "display_name": "Python 3",
   "language": "python",
   "name": "python3"
  },
  "language_info": {
   "codemirror_mode": {
    "name": "ipython",
    "version": 3
   },
   "file_extension": ".py",
   "mimetype": "text/x-python",
   "name": "python",
   "nbconvert_exporter": "python",
   "pygments_lexer": "ipython3",
   "version": "3.7.4"
  }
 },
 "nbformat": 4,
 "nbformat_minor": 2
}
