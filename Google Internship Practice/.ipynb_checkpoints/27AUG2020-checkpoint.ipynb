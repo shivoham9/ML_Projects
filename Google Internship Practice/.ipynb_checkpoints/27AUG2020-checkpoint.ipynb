{
 "cells": [
  {
   "cell_type": "markdown",
   "metadata": {},
   "source": [
    "__9.) Design Tic-Tac Toe__"
   ]
  },
  {
   "cell_type": "markdown",
   "metadata": {},
   "source": [
    "    `this solution does not only work for n = 3 but all the cases.\n",
    "    we only have to consider, actually, three types of winning: row, col and diag.\n",
    "    \n",
    "    Specifically, we just need to initialize several counters that keep track of \n",
    "    row sum, col sum and diag sum. For example, in the 3 by 3 case, every time \n",
    "    player A placed something on row 1, then row 1 variable increment by 1. And if that\n",
    "    move is also on the diagonal, then we also update the corresponding variable.\n",
    "    And when player B make a move on row 1, then we decrement that variable by 1.\n",
    "    \n",
    "    So after the game, we only have to examine the row count, col count and diag count to \n",
    "    see if there is any one of them equal to 3. If not, it is either a pending or a draw \n",
    "    depending on how many moves the two players have made so far.`"
   ]
  },
  {
   "cell_type": "code",
   "execution_count": 42,
   "metadata": {},
   "outputs": [
    {
     "name": "stdout",
     "output_type": "stream",
     "text": [
      "A\n"
     ]
    }
   ],
   "source": [
    "from collections import defaultdict\n",
    "class Solution:\n",
    "    def tictac(self , moves):\n",
    "        row_count = [0] * 3\n",
    "        col_count= [0] * 3\n",
    "        diagonal1 = 0\n",
    "        diagonal2 = 0\n",
    "        \n",
    "        player_moves = defaultdict(list)\n",
    "        \n",
    "        for index , move in enumerate(moves):\n",
    "            if index % 2 == 0 :\n",
    "                player_moves['A'].append(move)\n",
    "            else:\n",
    "                player_moves['B'].append(move)\n",
    "                \n",
    "        for move in player_moves['A']:\n",
    "            row_move , col_move = move\n",
    "            row_count[row_move] = row_count[row_move]+1\n",
    "            col_count[col_move] = col_count[col_move]+1\n",
    "            if row_move == col_move:\n",
    "                diagonal1+=1\n",
    "            if row_move + col_move ==2:\n",
    "                diagonal2+=1\n",
    "            \n",
    "        result = row_count + col_count + [ diagonal2 , diagonal1]\n",
    "        \n",
    "        for i in result:\n",
    "            if i == 3:\n",
    "                ans = 'A'\n",
    "                break\n",
    "            elif i == -3:\n",
    "                ans = 'B'\n",
    "                break\n",
    "            else:\n",
    "                if len(moves)==9:\n",
    "                    ans = 'DRAW'\n",
    "                else:\n",
    "                    ans= 'PENDING'\n",
    "        return ans\n",
    "    \n",
    "moves = [ [1,1] , [0,1] , [0,2] , [1,0] , [2,0]]\n",
    "s = Solution()\n",
    "ans = s.tictac(moves)\n",
    "print(ans)"
   ]
  },
  {
   "cell_type": "markdown",
   "metadata": {},
   "source": [
    "`Other Option`"
   ]
  },
  {
   "cell_type": "markdown",
   "metadata": {},
   "source": [
    "class Solution:\n",
    "    def tictactoe(self, moves: List[List[int]]) -> str:\n",
    "        # init rows, cols and ele is each row/col\n",
    "        rows = [{'A':0,'B':0},{'A':0,'B':0},{'A':0,'B':0}]\n",
    "        cols = [{'A':0,'B':0},{'A':0,'B':0},{'A':0,'B':0}]\n",
    "        # one of two possible diags\n",
    "        diag1 = {'A':0,'B':0}\n",
    "        d1 = [[0,0], [1,1], [2,2]]\n",
    "        diag2 = {'A':0,'B':0}\n",
    "        d2 = [[2,0],[1,1],[0,2]]\n",
    "        for i in range(len(moves)):\n",
    "            # first move is A and second is B\n",
    "            if i % 2 == 0:\n",
    "                player = \"A\"\n",
    "            else:\n",
    "                player = \"B\"\n",
    "            r = moves[i][0]\n",
    "            c = moves[i][1]\n",
    "            rows[ r ][player] += 1 \n",
    "            cols[ c ][player] += 1\n",
    "            if moves[i] in d1:\n",
    "                diag1[player] += 1\n",
    "            if moves[i] in d2:\n",
    "                diag2[player] += 1\n",
    "            if rows[ r ][player] == 3 or cols[ c ][player] == 3 or diag1[player] == 3 or diag2[player] == 3:\n",
    "                return player\n",
    "        \n",
    "        if len(moves) == 9:\n",
    "            return \"Draw\"\n",
    "        \n",
    "        return \"Pending\""
   ]
  },
  {
   "cell_type": "markdown",
   "metadata": {},
   "source": [
    "__10.) Palindrome Permutation__"
   ]
  },
  {
   "cell_type": "markdown",
   "metadata": {},
   "source": [
    "    `If a string can form a palindrome, it should contain characters with even number of occurences and one character with odd number of occurences , or only characters with even number of occurences.\n",
    "\n",
    "    We can use set to record the characters with odd number of occurences. Traverse the given string s, if we meet a character odd number of times, put it in the set, otherwise remove it. Return whether the number of characters in the set is 0 or 1.`"
   ]
  },
  {
   "cell_type": "code",
   "execution_count": 16,
   "metadata": {},
   "outputs": [
    {
     "name": "stdout",
     "output_type": "stream",
     "text": [
      "Is string Palindrome Permuted String : True\n"
     ]
    }
   ],
   "source": [
    "class Solution:\n",
    "    def PP(self , s):\n",
    "        left = set()\n",
    "        for c in s:\n",
    "            if c in left:\n",
    "                left.remove(c)\n",
    "            else:\n",
    "                left.add(c)\n",
    "        return len(left)<2\n",
    "    \n",
    "string = \"aab\"\n",
    "s = Solution()\n",
    "print(\"Is string Palindrome Permuted String :\", s.PP(string))"
   ]
  },
  {
   "cell_type": "markdown",
   "metadata": {},
   "source": [
    "__11.) Generalized Abbreviation__"
   ]
  },
  {
   "cell_type": "code",
   "execution_count": 25,
   "metadata": {},
   "outputs": [
    {
     "name": "stdout",
     "output_type": "stream",
     "text": [
      "[['eat', '1at', 'e1t', 'ea1'], ['tea', '1ea', 't1a', 'te1'], ['tan', '1an', 't1n', 'ta1'], ['ate', '1te', 'a1e', 'at1'], ['nat', '1at', 'n1t', 'na1'], ['bat', '1at', 'b1t', 'ba1']]\n"
     ]
    }
   ],
   "source": [
    "class Solution:\n",
    "    def Generalized(self , word):\n",
    "        abbreviations = []\n",
    "        n = len(word)\n",
    "        abbreviations.append(word)\n",
    "        for i in range(1,n+1):\n",
    "            for j in range(0,n-i+1):\n",
    "                abbreviation = word[:j] + str(i) + word[j+i:]\n",
    "                if len(abbreviation) == 3:\n",
    "                    abbreviations.append(abbreviation)\n",
    "        return abbreviations\n",
    "    \n",
    "ans=[]\n",
    "l = [\"eat\", \"tea\", \"tan\", \"ate\", \"nat\", \"bat\"]\n",
    "s = Solution()\n",
    "for i in l:\n",
    "    ans.append(s.Generalized(i))\n",
    "    \n",
    "print(ans)"
   ]
  },
  {
   "cell_type": "markdown",
   "metadata": {},
   "source": [
    "__Simple format__"
   ]
  },
  {
   "cell_type": "code",
   "execution_count": 26,
   "metadata": {
    "scrolled": true
   },
   "outputs": [
    {
     "name": "stdout",
     "output_type": "stream",
     "text": [
      "[['1at', 'e1t', 'ea1', '2t', 'e2', '3'], ['1ea', 't1a', 'te1', '2a', 't2', '3'], ['1an', 't1n', 'ta1', '2n', 't2', '3'], ['1te', 'a1e', 'at1', '2e', 'a2', '3'], ['1at', 'n1t', 'na1', '2t', 'n2', '3'], ['1at', 'b1t', 'ba1', '2t', 'b2', '3']]\n"
     ]
    }
   ],
   "source": [
    "def findAbbreviations(word):\n",
    "    abbreviations = []\n",
    "    n = len(word)\n",
    "    for i in range(1,n+1):\n",
    "        for j in range(0,n-i+1):\n",
    "            abbreviation = word[:j] + str(i) + word[j+i:]\n",
    "            abbreviations.append(abbreviation)\n",
    "    return abbreviations\n",
    "\n",
    "ans=[]\n",
    "l = [\"eat\", \"tea\", \"tan\", \"ate\", \"nat\", \"bat\"]\n",
    "for i in l:\n",
    "    ans.append(findAbbreviations(i))\n",
    "    \n",
    "print(ans)\n"
   ]
  },
  {
   "cell_type": "markdown",
   "metadata": {},
   "source": [
    "__12.) Missing Ranges__"
   ]
  },
  {
   "cell_type": "code",
   "execution_count": 39,
   "metadata": {},
   "outputs": [
    {
     "name": "stdout",
     "output_type": "stream",
     "text": [
      "['2', '4->49', '51->74', '76->99']\n"
     ]
    }
   ],
   "source": [
    "\n",
    "class Solution(object):\n",
    "    def findMissingRanges(self, nums, lower, upper):\n",
    "        \"\"\"\n",
    "        :type nums: List[int]\n",
    "        :type lower: int\n",
    "        :type upper: int\n",
    "        :rtype: List[str]\n",
    "        \"\"\"\n",
    "        def getRange(lower, upper):\n",
    "            if lower == upper:\n",
    "                return \"{}\".format(lower)\n",
    "            else:\n",
    "                return \"{}->{}\".format(lower, upper)\n",
    "        ranges = []\n",
    "        pre = lower - 1\n",
    "        \n",
    "        for i in range(len(nums) + 1):\n",
    "            if i == len(nums):\n",
    "                cur = upper + 1\n",
    "            else:\n",
    "                cur = nums[i]\n",
    "            if cur - pre >= 2:\n",
    "                ranges.append(getRange(pre + 1, cur - 1))\n",
    "                \n",
    "            pre = cur\n",
    "            \n",
    "        return ranges\n",
    "\n",
    "\n",
    "if __name__ == \"__main__\":\n",
    "    print (Solution().findMissingRanges([0, 1, 3, 50, 75], 0, 99))"
   ]
  },
  {
   "cell_type": "markdown",
   "metadata": {},
   "source": [
    "__13.) Binary Tree Longest Consecutive Sequence__"
   ]
  },
  {
   "cell_type": "code",
   "execution_count": 47,
   "metadata": {},
   "outputs": [
    {
     "name": "stdout",
     "output_type": "stream",
     "text": [
      "3\n"
     ]
    }
   ],
   "source": [
    "class newNode(object):\n",
    "    def __init__(self ,x):\n",
    "        self.val = x\n",
    "        self.left = self.right = None\n",
    "        \n",
    "class Solution(object):\n",
    "    def __init__(self):\n",
    "        self.maxLength = 0\n",
    "        \n",
    "    def LC(self , root):\n",
    "        if root is None:\n",
    "            return 0\n",
    "        self.pathForm(root , 0 , root.val)\n",
    "        return self.maxLength\n",
    "    \n",
    "    def pathForm(self , root , length , num):\n",
    "        if root is None:\n",
    "            return 0\n",
    "        if root.val == num+1:\n",
    "            length+=1\n",
    "        else:\n",
    "            length = 1\n",
    "        \n",
    "        if length > self.maxLength:\n",
    "            self.maxLength = length\n",
    "        \n",
    "        self.pathForm(root.left , length , root.val)\n",
    "        self.pathForm(root.right , length , root.val)\n",
    "        \n",
    "if __name__ == '__main__': \n",
    "  \n",
    "    root = newNode(6)  \n",
    "    root.right = newNode(9)  \n",
    "    root.right.left = newNode(7)  \n",
    "    root.right.right = newNode(10)  \n",
    "    root.right.right.right = newNode(11)  \n",
    "  \n",
    "    print(Solution().LC(root)) "
   ]
  },
  {
   "cell_type": "markdown",
   "metadata": {},
   "source": [
    "__14.) Paint Fence__"
   ]
  },
  {
   "cell_type": "markdown",
   "metadata": {},
   "source": [
    "`If n == 1, there would be k-ways to paint.\n",
    "\n",
    "if n == 2, there would be two situations:\n",
    "\n",
    "2.1 You paint same color with the previous post: k*1 ways to paint, named it as same;\n",
    "2.2 You paint differently with the previous post: k*(k-1) ways to paint this way, named it as diff.\n",
    "So, you can think, if n >= 3, you can always maintain these two situations, You either paint the same color with the previous one, or differently.\n",
    "\n",
    "We can further analyze:\n",
    "\n",
    "from 2.1, since previous two are in the same color, next one you could only paint differently, and it would form one part of “paint differently” case in the n == 3 level, and the number of ways to paint this way would equal to same*(k-1).\n",
    "from 2.2, since previous two are not the same, you can either paint the same color this time (diff*1) ways to do so, or stick to paint differently (diff*(k-1)) times.\n",
    "Here you can conclude, when seeing back from the next level, ways to paint the same, or variable same would equal to diff*1 = diff, and ways to paint differently, variable diff, would equal to same * (k - 1) + diff * (k - 1) = (same + diff) * (k - 1).`\n"
   ]
  },
  {
   "cell_type": "code",
   "execution_count": 48,
   "metadata": {},
   "outputs": [
    {
     "name": "stdout",
     "output_type": "stream",
     "text": [
      "ways are:  94192873574400\n"
     ]
    }
   ],
   "source": [
    "class Solution:\n",
    "    def Paint(self , n , k):\n",
    "        if k == 0 and n == 0:\n",
    "            return 0\n",
    "        if n==1:\n",
    "            return k\n",
    "        \n",
    "        same= k \n",
    "        diff = k*(k-1)\n",
    "        for _ in range(3 , n+1):\n",
    "            same , diff = diff , (same+diff)*(k-1)\n",
    "        return same+diff\n",
    "    \n",
    "n = 10\n",
    "k = 25\n",
    "s = Solution()\n",
    "print(\"ways are: \", s.Paint(n,k))"
   ]
  },
  {
   "cell_type": "markdown",
   "metadata": {},
   "source": [
    "__14.) Walls and Gates__"
   ]
  },
  {
   "cell_type": "markdown",
   "metadata": {},
   "source": [
    "`BFS. base case is when the room is empty, return directly. We first find the index of all the doors in the room, put them into q, then traverse q, calculate the distance from the grid around the door to the door, then on the door Look for empty rooms left and right, if you find an empty room, update the value of the empty room, and add the index of the empty room to q, in order to find the distance from the empty room around the empty room to the door`"
   ]
  },
  {
   "cell_type": "code",
   "execution_count": 54,
   "metadata": {},
   "outputs": [],
   "source": [
    "def wallsAndGates(self, rooms):\n",
    "        \"\"\"\n",
    "        Do not return anything, modify rooms in-place instead.\n",
    "        \"\"\"\n",
    "        if not rooms:\n",
    "            return []\n",
    "        row = len(rooms)\n",
    "        col = len(rooms[0])\n",
    "        directions=[(-1,0),(0,1),(1,0),(0,-1)]\n",
    "        \n",
    "        def dfs(x,y,dis):\n",
    "            for dx, dy in directions:\n",
    "                # find the INF around the gate\n",
    "                nx, ny = x+dx, y+dy\n",
    "                \n",
    "                if 0<=nx<row and 0<=ny<col and rooms[nx][ny]>rooms[x][y]:\n",
    "                    print(nx,ny)\n",
    "                     # get the distance from a gate\n",
    "                    rooms[nx][ny]=dis+1\n",
    "                    dfs(nx,ny,dis+1)\n",
    "                    \n",
    "        \n",
    "        for x in range(row):\n",
    "            for y in range(col):\n",
    "                # find the index of a gate\n",
    "                if rooms[x][y] == 0:\n",
    "                    dfs(x,y,0)\n"
   ]
  },
  {
   "cell_type": "markdown",
   "metadata": {},
   "source": [
    "__15.) Group Shifted Strings__"
   ]
  },
  {
   "cell_type": "code",
   "execution_count": 1,
   "metadata": {},
   "outputs": [
    {
     "name": "stdout",
     "output_type": "stream",
     "text": [
      "Shifted String is : dict_values([['abc', 'bcd', 'xyz'], ['acef'], ['az', 'ba'], ['a', 'z']])\n"
     ]
    }
   ],
   "source": [
    "class Solution:\n",
    "    def groupShift(self, strings):\n",
    "        if len(strings) == 0:\n",
    "            return []\n",
    "        str_map  = dict()\n",
    "        for s in strings:\n",
    "            delta = ord(s[0]) - ord('a')\n",
    "            k = \"\".join([chr(ord(c) - delta) if c>= s[0] else chr(26 + ord(c) - delta) for c in s])\n",
    "            if k not in str_map:\n",
    "                str_map[k] = list()\n",
    "            str_map[k].append(s)\n",
    "        return str_map.values()\n",
    "    \n",
    "strings = [\"abc\", \"bcd\", \"acef\", \"xyz\", \"az\", \"ba\", \"a\", \"z\"]\n",
    "s = Solution()\n",
    "print(\"Shifted String is :\" , s.groupShift(strings))"
   ]
  },
  {
   "cell_type": "markdown",
   "metadata": {},
   "source": [
    "__16.)  Binary Tree Vertical Order Traversal__"
   ]
  },
  {
   "cell_type": "markdown",
   "metadata": {},
   "source": [
    "import collections\n",
    "# Definition for a binary tree node.\n",
    "class TreeNode(object):\n",
    "    def __init__(self, val, left, right):\n",
    "        self.val = val\n",
    "        self.left = left\n",
    "        self.right = right\n",
    "        \n",
    "class Solution(object):\n",
    "    def verticalTraversal(self, root):\n",
    "        \"\"\"\n",
    "        :type root: TreeNode\n",
    "        :rtype: List[List[int]]\n",
    "        \"\"\"\n",
    "        # Idea is to check for horizontal distance of each node(from root, root is at 0) and vertical distance from root. Root is at vertical distance 0, subnodes of root are at vertical distance 1 and so on. Root's Left node is at horizontal distance -1 and right is at +1. Maintain a hashmap to store all this and later on sort the hashmap by horizontal distances. If 2 nodes are at different vertical distance, take the one closest to root first. If both are at same vertical distance, then sort based on value of node.\n",
    "        \n",
    "        hashmap = collections.defaultdict(list)\n",
    "        \n",
    "        def dfs(node, vertical_level, horizontal_level):\n",
    "            if not node:\n",
    "                return\n",
    "            hashmap[horizontal_level].append((node.val, vertical_level, horizontal_level))\n",
    "            dfs(node.left, vertical_level + 1, horizontal_level - 1)\n",
    "            dfs(node.right, vertical_level + 1, horizontal_level + 1)\n",
    "        \n",
    "        dfs(root, 0, 0)\n",
    "        # print hashmap\n",
    "        res = []\n",
    "        for key in sorted(hashmap):\n",
    "            res.append([x[0] for x in sorted(hashmap[key], key = lambda x: (x[1], x[0]))])\n",
    "        return res\n",
    "\n",
    "    \n",
    "\n",
    "s= Solution()\n",
    "t = TreeNode(3 ,20 ,9)\n",
    "t.right = TreeNode(9 , None , None)\n",
    "t.left = TreeNode(20 , 7 ,15)\n",
    "print(s.verticalTraversal(3))"
   ]
  },
  {
   "cell_type": "markdown",
   "metadata": {},
   "source": [
    "__17.) 3 Sum Smaller__"
   ]
  },
  {
   "cell_type": "code",
   "execution_count": 15,
   "metadata": {},
   "outputs": [
    {
     "name": "stdout",
     "output_type": "stream",
     "text": [
      "2\n"
     ]
    }
   ],
   "source": [
    "class Solution(object):\n",
    "    def threeSumSmaller(self, nums, target):\n",
    "        \"\"\"\n",
    "        :type nums: List[int]\n",
    "        :type target: int\n",
    "        :rtype: int\n",
    "        \"\"\"\n",
    "        if len(nums) < 3:\n",
    "            return 0\n",
    "\n",
    "        sums = 0\n",
    "        nums.sort()\n",
    "        for i in range(len(nums) - 2):\n",
    "            sums += self.__twoSumSmaller(nums[i+1:], target - nums[i])\n",
    "\n",
    "        return sums\n",
    "\n",
    "    def __twoSumSmaller(self, nums, target):\n",
    "        sums = 0\n",
    "        left, right = 0, len(nums) - 1\n",
    "        while left < right:\n",
    "            if nums[left] + nums[right] < target:\n",
    "                sums += right - left\n",
    "                left += 1\n",
    "            else:\n",
    "                right -= 1\n",
    "\n",
    "        return sums\n",
    "\n",
    "nums = [-2, 0, 1, 3]\n",
    "target = 2\n",
    "print(Solution().threeSumSmaller(nums , target)) # number of combinations that satisfy condition"
   ]
  },
  {
   "cell_type": "markdown",
   "metadata": {},
   "source": [
    "__18. ) Android Lock Pattern__"
   ]
  },
  {
   "cell_type": "code",
   "execution_count": null,
   "metadata": {},
   "outputs": [],
   "source": []
  },
  {
   "cell_type": "markdown",
   "metadata": {},
   "source": [
    "__19.) Closest Binary Search Tree Value__"
   ]
  },
  {
   "cell_type": "code",
   "execution_count": 18,
   "metadata": {},
   "outputs": [],
   "source": [
    "#class Treenode:\n",
    "#    def __init__(self ,x):\n",
    "#        self.val = x\n",
    "#        self.left = self.right = None\n",
    "\n",
    "class Solution:\n",
    "    def ClosestValue(self , root , target):\n",
    "        \"\"\"\n",
    "        :type root: TreeNode\n",
    "        :type target: float\n",
    "        :rtype: int\n",
    "        \"\"\"\n",
    "        n = root\n",
    "        v = root.val\n",
    "        while not n is None:\n",
    "            if abs(n.val - target) < abs(v - target):\n",
    "                v = n.val\n",
    "            if target < n.val:\n",
    "                n = n.left\n",
    "            else:\n",
    "                n = n.right\n",
    "        return v"
   ]
  },
  {
   "cell_type": "markdown",
   "metadata": {},
   "source": [
    "__20.) Bomb Enemy__"
   ]
  },
  {
   "cell_type": "code",
   "execution_count": 21,
   "metadata": {},
   "outputs": [
    {
     "name": "stdout",
     "output_type": "stream",
     "text": [
      "Highest Enimies killed by bomb are :  3\n"
     ]
    }
   ],
   "source": [
    "class Solution(object):\n",
    "    def maxKilledEnemies(self, grid):\n",
    "        \"\"\"\n",
    "        :type grid: List[List[str]]\n",
    "        :rtype: int\n",
    "        \"\"\"\n",
    "        # base case \n",
    "        if not grid: return 0\n",
    "        row, col = len(grid), len(grid[0])\n",
    "        ans = 0\n",
    "        arr = [[0]*col for i in range(row)]\n",
    "        # from left to right\n",
    "        for i in range(row):\n",
    "            count = 0\n",
    "            for j in range(col):\n",
    "                if grid[i][j] == 'E':\n",
    "                    count += 1\n",
    "                elif grid[i][j] == 'W':\n",
    "                    count = 0\n",
    "                else:\n",
    "                    arr[i][j] += count\n",
    "                    \n",
    "        # from right to left\n",
    "        for i in range(row):\n",
    "            count = 0\n",
    "            for j in range(col-1, -1, -1):\n",
    "                if grid[i][j] == 'E':\n",
    "                    count += 1\n",
    "                elif grid[i][j] == 'W':\n",
    "                    count = 0\n",
    "                else:\n",
    "                    arr[i][j] += count\n",
    "        # from up to down\n",
    "        for j in range(col):\n",
    "            count = 0\n",
    "            for i in range(row):\n",
    "                if grid[i][j] == 'E':\n",
    "                    count += 1\n",
    "                elif grid[i][j] == 'W':\n",
    "                    count = 0\n",
    "                else:\n",
    "                    arr[i][j] += count\n",
    "                    \n",
    "        # from down to up\n",
    "        for j in range(col):\n",
    "            count = 0\n",
    "            for i in range(row-1, -1, -1):\n",
    "                if grid[i][j] == 'E':\n",
    "                    count += 1\n",
    "                elif grid[i][j] == 'W':\n",
    "                    count = 0\n",
    "                else:\n",
    "                    arr[i][j] += count\n",
    "                    ans = max(ans, arr[i][j])\n",
    "                    \n",
    "        return ans\n",
    "    \n",
    "grid =  [[\"0\",\"E\",\"0\",\"0\"],[\"E\",\"0\",\"W\",\"E\"],[\"0\",\"E\",\"0\",\"0\"]]\n",
    "print(\"Highest Enimies killed by bomb are : \", Solution().maxKilledEnemies(grid))"
   ]
  },
  {
   "cell_type": "code",
   "execution_count": null,
   "metadata": {},
   "outputs": [],
   "source": []
  }
 ],
 "metadata": {
  "kernelspec": {
   "display_name": "Python 3",
   "language": "python",
   "name": "python3"
  },
  "language_info": {
   "codemirror_mode": {
    "name": "ipython",
    "version": 3
   },
   "file_extension": ".py",
   "mimetype": "text/x-python",
   "name": "python",
   "nbconvert_exporter": "python",
   "pygments_lexer": "ipython3",
   "version": "3.7.4"
  }
 },
 "nbformat": 4,
 "nbformat_minor": 2
}
