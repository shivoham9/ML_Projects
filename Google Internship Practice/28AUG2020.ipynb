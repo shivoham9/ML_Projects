{
 "cells": [
  {
   "cell_type": "markdown",
   "metadata": {},
   "source": [
    "__21.) Encode and Decode Strings__"
   ]
  },
  {
   "cell_type": "markdown",
   "metadata": {},
   "source": [
    "`Use a special sequence to denote the end of a string, and escape the sequence. Be careful of empty string and empty input as they’re different!`"
   ]
  },
  {
   "cell_type": "code",
   "execution_count": 3,
   "metadata": {},
   "outputs": [
    {
     "name": "stdout",
     "output_type": "stream",
     "text": [
      "['shivoham', 'tewari']\n"
     ]
    }
   ],
   "source": [
    "class Solution:\n",
    "    def Encode(self , string):\n",
    "        if len(string) == 0:\n",
    "            return \"\"\n",
    "        else:\n",
    "            return '//'.join([s.replace('/','#/#') for s in string]) + '//'\n",
    "        \n",
    "    def Decode(self, s):\n",
    "        if len(s)==0:\n",
    "            return []\n",
    "        return [string_dec.replace('#/#','/') for string_dec in s.split(\"//\")][:-1]\n",
    "    \n",
    "string = [\"shivoham\",\"tewari\"]\n",
    "s = Solution()\n",
    "print(s.Decode(s.Encode(string)))"
   ]
  },
  {
   "cell_type": "markdown",
   "metadata": {},
   "source": [
    "__21.) Sentence Screen Fitting__"
   ]
  },
  {
   "cell_type": "code",
   "execution_count": 22,
   "metadata": {},
   "outputs": [
    {
     "name": "stdout",
     "output_type": "stream",
     "text": [
      "2\n"
     ]
    }
   ],
   "source": [
    "class Solution:\n",
    "    def ScreenFitting(self,sentence,rows,cols):\n",
    "        \n",
    "        s = ' '.join(sentence)+' '\n",
    "        l = len(s)\n",
    "        pre = -1\n",
    "        backtrack = [0]*l\n",
    "        \n",
    "        for i in range(l):\n",
    "            if s[i]==' ':\n",
    "                pre = i\n",
    "            backtrack[i - (pre+1)]\n",
    "            \n",
    "        pos = 0\n",
    "        \n",
    "        for r in range(rows):\n",
    "            pos = pos + cols\n",
    "            pos = pos - backtrack[pos%l]\n",
    "        return (pos+1)//l\n",
    "    \n",
    "rows = 3\n",
    "cols = 6\n",
    "sentence = [\"a\", \"bcd\", \"e\"]\n",
    "s = Solution()\n",
    "print(s.ScreenFitting(sentence , rows , cols))"
   ]
  },
  {
   "cell_type": "markdown",
   "metadata": {},
   "source": [
    "public int wordsTyping(String[] sentence, int rows, int cols) {\n",
    "    int i = 0;\n",
    "    int cnt = 0;\n",
    " \n",
    "    int k = 0;  //kth word\n",
    "    int colLen = cols;\n",
    " \n",
    "    while (i < rows) {\n",
    "        String sen = sentence[k++];\n",
    "        if (sen.length() > cols) {\n",
    "            return 0;\n",
    "        }\n",
    " \n",
    "        if (colLen >= sen.length()) {\n",
    "            colLen = colLen - sen.length() - 1;\n",
    "        } else {\n",
    "            i++;\n",
    "            colLen = cols;\n",
    "            colLen = colLen - sen.length() - 1;\n",
    "        }\n",
    " \n",
    "        if (i >= rows) {\n",
    "            return cnt;\n",
    "        }\n",
    " \n",
    "        if (k == sentence.length) {\n",
    "            cnt++;\n",
    "            k = 0;\n",
    "        }\n",
    "    }\n",
    " \n",
    "    return cnt;\n",
    "}"
   ]
  },
  {
   "cell_type": "markdown",
   "metadata": {},
   "source": [
    "__22.) Strobogrammatic Number__"
   ]
  },
  {
   "cell_type": "code",
   "execution_count": 20,
   "metadata": {},
   "outputs": [
    {
     "name": "stdout",
     "output_type": "stream",
     "text": [
      "No is Strobogrammatic or not : True\n"
     ]
    }
   ],
   "source": [
    "class Solution:\n",
    "    def Strobogrammatic(self , num):\n",
    "        d = {'0':'0','1':'1','6':'9','8':'8','9':'6'}\n",
    "        ans=''\n",
    "        for n in num:\n",
    "            if n not in d:\n",
    "                return False\n",
    "            ans+=d[n]\n",
    "        return ans[::-1] == num\n",
    "    \n",
    "num = \"96\"\n",
    "s = Solution()\n",
    "print(\"No is Strobogrammatic or not :\", s.Strobogrammatic(num))"
   ]
  },
  {
   "cell_type": "markdown",
   "metadata": {},
   "source": [
    "__23.) Strobogrammatic Number II__"
   ]
  },
  {
   "cell_type": "code",
   "execution_count": 30,
   "metadata": {},
   "outputs": [
    {
     "name": "stdout",
     "output_type": "stream",
     "text": [
      "Numbers are: ['11', '69', '88', '96']\n"
     ]
    }
   ],
   "source": [
    "class Solution:\n",
    "    lookup = {'0':'0','1':'1','6':'9','8':'8','9':'6'}\n",
    "    def findStrobogrammatic(self, n):\n",
    "        return self.findStrobogrammaticRecu(n, n)\n",
    "\n",
    "    def findStrobogrammaticRecu(self ,n ,k):\n",
    "        if k == 0:\n",
    "            return ['']\n",
    "        elif k == 1:\n",
    "            return ['0', '1', '8']\n",
    "        \n",
    "        result = []\n",
    "        for num in self.findStrobogrammaticRecu(n, k - 2):\n",
    "            for key, val in self.lookup.items():\n",
    "                if n != k or key != '0':\n",
    "                    result.append(key + num + val)\n",
    " \n",
    "        return result\n",
    "\n",
    "n = 2\n",
    "s = Solution()\n",
    "print(\"Numbers are:\", s.findStrobogrammatic(n))"
   ]
  },
  {
   "cell_type": "markdown",
   "metadata": {},
   "source": [
    "__24.) Sentence Similarity II__"
   ]
  },
  {
   "cell_type": "code",
   "execution_count": 31,
   "metadata": {},
   "outputs": [],
   "source": [
    "class Solution:\n",
    "    def SS(self , words1 , words2 , pairs):\n",
    "        if len(words1) != len(words2):\n",
    "            return False\n",
    "        for i , w1 in enumerate(words1):\n",
    "            w2 = words2[i]\n",
    "            if not (w1 == w2 or [w1,w2] in pairs  or [w2 ,w1] in pairs):\n",
    "                return False\n",
    "            return True\n",
    "        \n"
   ]
  },
  {
   "cell_type": "markdown",
   "metadata": {},
   "source": [
    "__25.) Unique Word Abbreviation__"
   ]
  },
  {
   "cell_type": "code",
   "execution_count": 36,
   "metadata": {},
   "outputs": [
    {
     "name": "stdout",
     "output_type": "stream",
     "text": [
      "True\n"
     ]
    }
   ],
   "source": [
    "import collections\n",
    "class Solution:\n",
    "    def __init__(self , dictionary):\n",
    "        self.lookup = collections.defaultdict(set)\n",
    "        for word in dictionary:\n",
    "            abbr = self.abbreviation(word)\n",
    "            self.lookup[abbr].add(word)\n",
    "            \n",
    "    def isUnique(self , word):\n",
    "        abbr = self.abbreviation(word)\n",
    "        return self.lookup[abbr]<= {word}\n",
    "    \n",
    "    def abbreviation(self, word):\n",
    "        if len(word) <=2:\n",
    "            return word\n",
    "        return word[0]+str(len(word)-2)+word[-1]\n",
    "\n",
    "dictionary = [ \"deer\", \"door\", \"cake\", \"card\" ]\n",
    "s = Solution(dictionary)\n",
    "print(s.isUnique(\"make\"))"
   ]
  },
  {
   "cell_type": "markdown",
   "metadata": {},
   "source": [
    "__26.) Logger Rate Limiter__"
   ]
  },
  {
   "cell_type": "code",
   "execution_count": 38,
   "metadata": {},
   "outputs": [
    {
     "name": "stdout",
     "output_type": "stream",
     "text": [
      "True\n"
     ]
    }
   ],
   "source": [
    "class Solution:\n",
    "    def __init__(self):\n",
    "        self.mp = {}\n",
    "        \n",
    "    def PrintMessage(self , timestamp , message):\n",
    "        if message not in self.mp:\n",
    "            self.mp[timestamp] = timestamp\n",
    "            return True\n",
    "        elif timestamp - self.mp[message]>=10:\n",
    "            self.mp[message] = timestamp\n",
    "            return True\n",
    "        return False\n",
    "    \n",
    "logger = Solution()\n",
    "print(logger.PrintMessage(\"11:50\",\"shivoham\"))"
   ]
  },
  {
   "cell_type": "markdown",
   "metadata": {},
   "source": [
    "__27.) Flip Game 2__"
   ]
  },
  {
   "cell_type": "markdown",
   "metadata": {},
   "source": [
    "class Solution:\n",
    "    def PredictTheWinner(self, nums: List[int]) -> bool:\n",
    "        # similar with \"Flip Game II\", and with \"Can I Win\" \n",
    "        # The idea is try to calculate running sum of both players and see if the opponent can win or not, if the opponent cannot win, great, we win!\n",
    "        # Tricky: for the 2nd player, win condition should be differ with 1st player\n",
    "        # i.g, running sum equal to total/2 does not necessary mean play 2 cauld win; but for 1st player, \n",
    "        # running sum equal to total/2 is enough to win\n",
    "        \n",
    "        total = sum([x for x in nums])\n",
    "       \n",
    "        # s1: running sum for player 1, s2: running sum for player 2\n",
    "        # first: boolean value, current player is first player or not\n",
    "        def canWin(total, nums, s1, s2, first):\n",
    "            # base case\n",
    "            if not nums:\n",
    "                return False\n",
    "          \n",
    "            if first:\n",
    "                if any((s1 + x) >= math.ceil(total / 2) for x in [nums[0], nums[-1]]):\n",
    "                    return True\n",
    "            else:\n",
    "                if any((s1 + x) > total / 2 for x in [nums[0], nums[-1]]):\n",
    "                    return True\n",
    "            if not canWin(total, nums[1:], s2, s1+nums[0], not first):\n",
    "                return True\n",
    "            if not canWin(total, nums[:-1], s2, s1+nums[-1], not first):\n",
    "                return True\n",
    "            return False\n",
    "        \n",
    "        return canWin(total, nums, 0 , 0, True)"
   ]
  },
  {
   "cell_type": "markdown",
   "metadata": {},
   "source": [
    "public class Solution {\n",
    "    public boolean canWin(String s) {\n",
    "        if (s == null || s.length() == 0) {\n",
    "            return false;\n",
    "        }\n",
    "         \n",
    "        char[] arr = s.toCharArray();\n",
    "         \n",
    "        return canWinHelper(arr);\n",
    "    }\n",
    "     \n",
    "    private boolean canWinHelper(char[] arr) {\n",
    "        int i = 0;\n",
    "         \n",
    "        for (i = 0; i < arr.length - 1; i++) {\n",
    "            if (arr[i] == '+' && arr[i + 1] == '+') {\n",
    "                arr[i] = '-';\n",
    "                arr[i + 1] = '-';\n",
    "                 \n",
    "               boolean win = !canWinHelper(arr);\n",
    "                 \n",
    "                arr[i] = '+';\n",
    "                arr[i + 1] = '+';\n",
    "                 \n",
    "                if (win) {\n",
    "                    return true;\n",
    "                }\n",
    "            }\n",
    "        }\n",
    "         \n",
    "        return false;\n",
    "    }\n",
    "}\n"
   ]
  },
  {
   "cell_type": "markdown",
   "metadata": {},
   "source": [
    "## Google Assessment Questions (Asked in Other countries)"
   ]
  },
  {
   "cell_type": "markdown",
   "metadata": {},
   "source": [
    "__1.) Compare Strings__"
   ]
  },
  {
   "cell_type": "code",
   "execution_count": 9,
   "metadata": {},
   "outputs": [
    {
     "name": "stdout",
     "output_type": "stream",
     "text": [
      "[1, 2]\n"
     ]
    }
   ],
   "source": [
    "import bisect # to get current position to insert element in list , so list remain sorted\n",
    "class Solution:\n",
    "    def numSmallerByFrequency(self, queries, words):\n",
    "        word = [s.count(min(s)) for s in words]\n",
    "        query = [s.count(min(s)) for s in queries]\n",
    "        res = []\n",
    "        word.sort()\n",
    "        for q in query:\n",
    "            find = bisect.bisect(word, q)\n",
    "            res.append(len(word)-find)\n",
    "        return res\n",
    "    \n",
    "queries = [\"bbb\",\"cc\"]\n",
    "words = [\"a\",\"aa\",\"aaa\",\"aaaa\"]\n",
    "s = Solution()\n",
    "print(s.numSmallerByFrequency( queries , words))"
   ]
  },
  {
   "cell_type": "markdown",
   "metadata": {},
   "source": [
    "__2.) Get max subarray for array (sliding Window)__"
   ]
  },
  {
   "cell_type": "code",
   "execution_count": 27,
   "metadata": {},
   "outputs": [
    {
     "name": "stdout",
     "output_type": "stream",
     "text": [
      "[4, 3, 2]\n"
     ]
    }
   ],
   "source": [
    "def MaxNumber(num , k):\n",
    "    if len(num)==0:\n",
    "        return []\n",
    "    results = []\n",
    "    for x in range(0 , len(num)-k+1):\n",
    "        results.append(num[x:x+k])\n",
    "        \n",
    "    return max(results)\n",
    "\n",
    "k = 3\n",
    "num = [1,4,3,2,5]\n",
    "print(MaxNumber(num , k))"
   ]
  },
  {
   "cell_type": "markdown",
   "metadata": {},
   "source": [
    "__3.) Get Maximum Time__"
   ]
  },
  {
   "cell_type": "code",
   "execution_count": 11,
   "metadata": {},
   "outputs": [
    {
     "name": "stdout",
     "output_type": "stream",
     "text": [
      "21:59\n"
     ]
    }
   ],
   "source": [
    "def maxTime(s):\n",
    "    newTime = \"\"\n",
    "    for i in range(5):\n",
    "        if s[i] == '?':\n",
    "            if i == 0:    newTime+= '2'\n",
    "            elif i == 1:    newTime += '3'\n",
    "            elif i == 3:    newTime += '5'\n",
    "            elif i == 4:    newTime += '9'\n",
    "        else:\n",
    "            newTime += s[i]\n",
    "    return newTime\n",
    "\n",
    "s = \"?1:59\"\n",
    "print(maxTime(s))"
   ]
  },
  {
   "cell_type": "markdown",
   "metadata": {},
   "source": [
    "__4.) Min Abs Difference of Server Loads__"
   ]
  },
  {
   "cell_type": "code",
   "execution_count": 21,
   "metadata": {},
   "outputs": [
    {
     "name": "stdout",
     "output_type": "stream",
     "text": [
      "1\n",
      "0\n",
      "0\n",
      "1\n"
     ]
    }
   ],
   "source": [
    "def minAbs(nums):\n",
    "    s = sum(nums)//2\n",
    "    n = len(nums)\n",
    "    dp = [[0 for _ in range(s+1)] for x in range(n+1)]\n",
    "    for i in range(1,n+1):\n",
    "        for j in range(1,s+1):\n",
    "            if nums[i-1]<=j:\n",
    "                dp[i][j]=max(dp[i-1][j], nums[i-1]+dp[i-1][j-nums[i-1]])\n",
    "            else:\n",
    "                dp[i][j] = dp[i-1][j]\n",
    "    return (sum(nums)-dp[-1][-1])-dp[-1][-1]\n",
    "\n",
    "print(minAbs([1,2,3,4,5]))\n",
    "print(minAbs([10,10,9,9,2]))\n",
    "print(minAbs([ ]))\n",
    "print(minAbs([1]))"
   ]
  },
  {
   "cell_type": "markdown",
   "metadata": {},
   "source": [
    "__5.) Most Booked Hotel Room__ "
   ]
  },
  {
   "cell_type": "code",
   "execution_count": 30,
   "metadata": {},
   "outputs": [
    {
     "name": "stdout",
     "output_type": "stream",
     "text": [
      "-3E\n"
     ]
    }
   ],
   "source": [
    "input=[\"-3E\", \"+3E\", \"-1A\", \"+4F\", \"+1A\", \"-3E\"]\n",
    "dict={}\n",
    "for el in input:\n",
    "    if el not in dict:\n",
    "        dict[el]=1\n",
    "    else:\n",
    "        dict[el]+=1\n",
    "i=0\n",
    "k=\"\"\n",
    "for el in dict:\n",
    "    if dict[el]>i:\n",
    "        i = dict[el]\n",
    "        k = el\n",
    "print(k)"
   ]
  },
  {
   "cell_type": "markdown",
   "metadata": {},
   "source": [
    "__6.)Greatest Common Divisor__"
   ]
  },
  {
   "cell_type": "code",
   "execution_count": 1,
   "metadata": {},
   "outputs": [],
   "source": [
    "class Solution:\n",
    "    def maxDiifGCD(self ,n ,tree):\n",
    "        if n == -1:\n",
    "            return -1\n",
    "        if n == 0:\n",
    "            return 0\n",
    "        \n",
    "        def findGCD(num1 , num2):\n",
    "            if num2 == 0:\n",
    "                return num1\n",
    "            else:\n",
    "                return findGCD(num1 , num1%num2)\n",
    "            \n",
    "        gcd_s = []\n",
    "        for i in range(1,n):\n",
    "            layer = tree[i]\n",
    "            for j in range(0 , i**2 , 2):\n",
    "                num1 = max(layer[j] , layer[j+1])\n",
    "                num2 = min(layer[j] , layer[j+1])\n",
    "                if num1 == -1 or num2 == -1:\n",
    "                    continue\n",
    "                else:\n",
    "                    gcd = findGCD(num1 , num2)\n",
    "                \n",
    "                if not gcds:\n",
    "                    gcds.append(gcd)\n",
    "                elif gcd <gcds[0]:\n",
    "                    gcds = [gcd] + gcds\n",
    "                elif gcd > gcds[-1]:\n",
    "                    gcds.append(gcd)\n",
    "                else:\n",
    "                    gcds = gcds[:-1] + [gcd] + gcd[-1]\n",
    "                    \n",
    "        return gcds[-1] - gcds[0]\n",
    "    \n"
   ]
  },
  {
   "cell_type": "markdown",
   "metadata": {},
   "source": [
    "__7.) Relative Sort (Minimum Swaps req to make both arrays in ascending order)__"
   ]
  },
  {
   "cell_type": "code",
   "execution_count": 7,
   "metadata": {},
   "outputs": [
    {
     "name": "stdout",
     "output_type": "stream",
     "text": [
      "Minimum number of Swaps required are:  1\n"
     ]
    }
   ],
   "source": [
    "class Solution:\n",
    "    def minSwap(self, A, B):\n",
    "        n=len(A)\n",
    "        swap=[n]*n\n",
    "        no_swap=[n]*n\n",
    "        swap[0]=1\n",
    "        no_swap[0]=0\n",
    "        \n",
    "        for i in range(1,n):\n",
    "            if A[i] > A[i - 1] and B[i] > B[i - 1]:\n",
    "                swap[i] = swap[i - 1] + 1\n",
    "                no_swap[i] = no_swap[i - 1]\n",
    "            if A[i] > B[i - 1] and B[i] > A[i - 1]:\n",
    "                swap[i] = min(swap[i], no_swap[i - 1] + 1)\n",
    "                no_swap[i] = min(no_swap[i], swap[i - 1])\n",
    "        return min(no_swap[-1],swap[-1])\n",
    "    \n",
    "\n",
    "s = Solution()\n",
    "n = 4\n",
    "A = [1,4, 4, 9]\n",
    "B = [2 ,3 ,5 ,10]\n",
    "print(\"Minimum number of Swaps required are: \",s.minSwap(A,B))"
   ]
  },
  {
   "cell_type": "markdown",
   "metadata": {},
   "source": [
    "__8.) Maximum Number of Strawberries__"
   ]
  },
  {
   "cell_type": "code",
   "execution_count": 10,
   "metadata": {},
   "outputs": [
    {
     "name": "stdout",
     "output_type": "stream",
     "text": [
      "9\n"
     ]
    }
   ],
   "source": [
    "\n",
    "# Let bool F[i][s] be true if the robot can have s strawberries after going through the first i bushes AND picking i-th bush.\n",
    "# Let bool G[i][s] be true if the robot can have s strawberries after going through the first i bushes AND NOT picking i-th bush.\n",
    "\n",
    "def maxStrawberries2(A, num):\n",
    "    n = len(A)\n",
    "    F, G = {0}, {0}\n",
    "    for x in A:\n",
    "        F_new = G | {g + x for g in G if g + x <= num}\n",
    "        G_new = F | G\n",
    "        F, G = F_new, G_new\n",
    "    return max(F | G)\n",
    "\n",
    "A, num = [5, 1, 2, 3, 4], 10\n",
    "print(maxStrawberries2(A, num))"
   ]
  },
  {
   "cell_type": "code",
   "execution_count": 11,
   "metadata": {},
   "outputs": [
    {
     "data": {
      "text/plain": [
       "3"
      ]
     },
     "execution_count": 11,
     "metadata": {},
     "output_type": "execute_result"
    }
   ],
   "source": [
    "1 | 2"
   ]
  },
  {
   "cell_type": "code",
   "execution_count": 12,
   "metadata": {},
   "outputs": [
    {
     "data": {
      "text/plain": [
       "30"
      ]
     },
     "execution_count": 12,
     "metadata": {},
     "output_type": "execute_result"
    }
   ],
   "source": [
    "12 | 22"
   ]
  },
  {
   "cell_type": "markdown",
   "metadata": {},
   "source": [
    "__9.) Minimum distance from the farthest node__"
   ]
  },
  {
   "cell_type": "code",
   "execution_count": 14,
   "metadata": {},
   "outputs": [],
   "source": [
    "def minDistance(edges, n):\n",
    "\n",
    "    graph = collections.defaultdict(list)\n",
    "    vertices = set()\n",
    "# initializing\n",
    "    for edge in edges:\n",
    "        u = edge[0]\n",
    "        v = edge[1]\n",
    "        vertices.add(u)\n",
    "        vertices.add(v)\n",
    "        graph[u].append(v)\n",
    "        graph[v].append(u)\n",
    "    minDist = float('inf')\n",
    "    for v in vertices:\n",
    "        minDist = min(minDist, getFarthestDistance(graph, vertices, v))\n",
    "    return minDist\n",
    "\n",
    "def getFarthestDistance(graph, vertices, v):\n",
    "    status, distance, q = {}, {}, []\n",
    "    for ver in vertices:\n",
    "        status[ver] = 'w'\n",
    "        distance[ver] = float('inf')\n",
    "    q = [v]\n",
    "    status[v] = 'g'\n",
    "    distance[v] = 0\n",
    "    maxDist = float('-inf')\n",
    "    while len(q) > 0:\n",
    "        curr = q.pop(0)\n",
    "        adjacent = graph[curr]\n",
    "        for ver in adjacent:\n",
    "            if status[ver] == 'w':\n",
    "                q.append(ver)\n",
    "                status[ver] = 'g'\n",
    "                distance[ver] = distance[curr] + 1\n",
    "                maxDist = max(maxDist, distance[ver])\n",
    "        status[curr] = 'b'\n",
    "    return maxDist"
   ]
  },
  {
   "cell_type": "markdown",
   "metadata": {},
   "source": [
    "__10.) Pizzza Shop__"
   ]
  },
  {
   "cell_type": "code",
   "execution_count": 19,
   "metadata": {},
   "outputs": [
    {
     "name": "stdout",
     "output_type": "stream",
     "text": [
      "1050\n"
     ]
    }
   ],
   "source": [
    "def generate_toppings(toppings):\n",
    "    new_toppings = [0]\n",
    "    for i in range(len(toppings)):\n",
    "        new_toppings.append(toppings[i])\n",
    "        \n",
    "        for j in range(i+1 , len(toppings)):\n",
    "            new_toppings.append(toppings[i]+toppings[j])\n",
    "            \n",
    "    return new_toppings\n",
    "\n",
    "\n",
    "def GenerateCombos(pizzas , toppings , money):\n",
    "    \n",
    "    min_spend = money\n",
    "    topping_combos = generate_toppings(toppings)\n",
    "    best_combo = float('inf')\n",
    "    \n",
    "    for pizza in pizzas:\n",
    "        \n",
    "        combos = list(map(lambda top_comb : abs(top_comb + pizza) , topping_combos))\n",
    "        \n",
    "        for combo in combos:\n",
    "            if abs(combo - money) < min_spend:\n",
    "                min_spend = abs(combo - money)\n",
    "                best_combo = combo\n",
    "                \n",
    "            else:\n",
    "                pass\n",
    "        return best_combo\n",
    "    \n",
    "pizzas = [850, 900]\n",
    "toppings = [200, 250]\n",
    "moeny = 1000\n",
    "print(GenerateCombos(pizzas , toppings , moeny))"
   ]
  },
  {
   "cell_type": "code",
   "execution_count": null,
   "metadata": {},
   "outputs": [],
   "source": [
    "    "
   ]
  }
 ],
 "metadata": {
  "kernelspec": {
   "display_name": "Python 3",
   "language": "python",
   "name": "python3"
  },
  "language_info": {
   "codemirror_mode": {
    "name": "ipython",
    "version": 3
   },
   "file_extension": ".py",
   "mimetype": "text/x-python",
   "name": "python",
   "nbconvert_exporter": "python",
   "pygments_lexer": "ipython3",
   "version": "3.7.4"
  }
 },
 "nbformat": 4,
 "nbformat_minor": 2
}
